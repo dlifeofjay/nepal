{
 "cells": [
  {
   "cell_type": "code",
   "execution_count": 1,
   "id": "13fc8765-1272-4007-bb89-7acd4730f315",
   "metadata": {},
   "outputs": [
    {
     "name": "stderr",
     "output_type": "stream",
     "text": [
      "C:\\Users\\USER\\AppData\\Local\\Temp\\ipykernel_13292\\2944889590.py:3: DeprecationWarning: the 'DEFAULT' constant is deprecated, use the 'TableStyle' enum instead\n",
      "  run.prettytable.__dict__.setdefault('DEFAULT', run.prettytable.DEFAULT)\n"
     ]
    },
    {
     "data": {
      "text/plain": [
       "<TableStyle.DEFAULT: 10>"
      ]
     },
     "execution_count": 1,
     "metadata": {},
     "output_type": "execute_result"
    }
   ],
   "source": [
    "import sqlite3\n",
    "from sql import run\n",
    "run.prettytable.__dict__.setdefault('DEFAULT', run.prettytable.DEFAULT)"
   ]
  },
  {
   "cell_type": "code",
   "execution_count": 2,
   "id": "4b92be01-f8ce-4205-a8a6-a620117853e1",
   "metadata": {},
   "outputs": [],
   "source": [
    "%reload_ext sql\n",
    "%sql sqlite:///nepal_eq.db"
   ]
  },
  {
   "cell_type": "code",
   "execution_count": 3,
   "id": "eb95e5bb-4a3f-479f-a591-0dbe86602bdc",
   "metadata": {},
   "outputs": [
    {
     "name": "stdout",
     "output_type": "stream",
     "text": [
      " * sqlite:///nepal_eq.db\n",
      "Done.\n"
     ]
    },
    {
     "data": {
      "text/html": [
       "<table>\n",
       "    <thead>\n",
       "        <tr>\n",
       "            <th>type</th>\n",
       "            <th>name</th>\n",
       "            <th>tbl_name</th>\n",
       "            <th>rootpage</th>\n",
       "            <th>sql</th>\n",
       "        </tr>\n",
       "    </thead>\n",
       "    <tbody>\n",
       "        <tr>\n",
       "            <td>table</td>\n",
       "            <td>building_damage</td>\n",
       "            <td>building_damage</td>\n",
       "            <td>24282</td>\n",
       "            <td>CREATE TABLE &quot;building_damage&quot; (<br>\t&quot;area_assesed&quot;\tTEXT,<br>\t&quot;building_id&quot;\tREAL,<br>\t&quot;damage_overall_collapse&quot;\tTEXT,<br>\t&quot;damage_overall_leaning&quot;\tTEXT,<br>\t&quot;damage_overall_adjacent_building_risk&quot;\tTEXT,<br>\t&quot;damage_foundation_severe&quot;\tTEXT,<br>\t&quot;damage_foundation_moderate&quot;\tTEXT,<br>\t&quot;damage_foundation_insignificant&quot;\tTEXT,<br>\t&quot;damage_roof_severe&quot;\tTEXT,<br>\t&quot;damage_roof_moderate&quot;\tTEXT,<br>\t&quot;damage_roof_insignificant&quot;\tTEXT,<br>\t&quot;damage_corner_separation_severe&quot;\tTEXT,<br>\t&quot;damage_corner_separation_moderate&quot;\tTEXT,<br>\t&quot;damage_corner_separation_insignificant&quot;\tTEXT,<br>\t&quot;damage_diagonal_cracking_severe&quot;\tTEXT,<br>\t&quot;damage_diagonal_cracking_moderate&quot;\tTEXT,<br>\t&quot;damage_diagonal_cracking_insignificant&quot;\tTEXT,<br>\t&quot;damage_in_plane_failure_severe&quot;\tTEXT,<br>\t&quot;damage_in_plane_failure_moderate&quot;\tTEXT,<br>\t&quot;damage_in_plane_failure_insignificant&quot;\tTEXT,<br>\t&quot;damage_out_of_plane_failure_severe&quot;\tTEXT,<br>\t&quot;damage_out_of_plane_failure_moderate&quot;\tTEXT,<br>\t&quot;damage_out_of_plane_failure_insignificant&quot;\tTEXT,<br>\t&quot;damage_out_of_plane_failure_walls_ncfr_severe&quot;\tTEXT,<br>\t&quot;damage_out_of_plane_failure_walls_ncfr_moderate&quot;\tTEXT,<br>\t&quot;damage_out_of_plane_failure_walls_ncfr_insignificant&quot;\tTEXT,<br>\t&quot;damage_gable_failure_severe&quot;\tTEXT,<br>\t&quot;damage_gable_failure_moderate&quot;\tTEXT,<br>\t&quot;damage_gable_failure_insignificant&quot;\tTEXT,<br>\t&quot;damage_delamination_failure_severe&quot;\tTEXT,<br>\t&quot;damage_delamination_failure_moderate&quot;\tTEXT,<br>\t&quot;damage_delamination_failure_insignificant&quot;\tTEXT,<br>\t&quot;damage_column_failure_severe&quot;\tTEXT,<br>\t&quot;damage_column_failure_moderate&quot;\tTEXT,<br>\t&quot;damage_column_failure_insignificant&quot;\tTEXT,<br>\t&quot;damage_beam_failure_severe&quot;\tTEXT,<br>\t&quot;damage_beam_failure_moderate&quot;\tTEXT,<br>\t&quot;damage_beam_failure_insignificant&quot;\tTEXT,<br>\t&quot;damage_infill_partition_failure_severe&quot;\tTEXT,<br>\t&quot;damage_infill_partition_failure_moderate&quot;\tTEXT,<br>\t&quot;damage_infill_partition_failure_insignificant&quot;\tTEXT,<br>\t&quot;damage_staircase_severe&quot;\tTEXT,<br>\t&quot;damage_staircase_moderate&quot;\tTEXT,<br>\t&quot;damage_staircase_insignificant&quot;\tTEXT,<br>\t&quot;damage_parapet_severe&quot;\tTEXT,<br>\t&quot;damage_parapet_moderate&quot;\tTEXT,<br>\t&quot;damage_parapet_insignificant&quot;\tTEXT,<br>\t&quot;damage_cladding_glazing_severe&quot;\tTEXT,<br>\t&quot;damage_cladding_glazing_moderate&quot;\tTEXT,<br>\t&quot;damage_cladding_glazing_insignificant&quot;\tTEXT,<br>\t&quot;damage_grade&quot;\tTEXT,<br>\t&quot;district_id&quot;\tINTEGER,<br>\t&quot;technical_solution_proposed&quot;\tTEXT,<br>\t&quot;has_repair_started&quot;\tTEXT,<br>\t&quot;has_damage_foundation&quot;\tTEXT,<br>\t&quot;has_damage_roof&quot;\tTEXT,<br>\t&quot;has_damage_corner_separation&quot;\tTEXT,<br>\t&quot;has_damage_diagonal_cracking&quot;\tTEXT,<br>\t&quot;has_damage_in_plane_failure&quot;\tTEXT,<br>\t&quot;has_damage_out_of_plane_failure&quot;\tTEXT,<br>\t&quot;has_damage_out_of_plane_walls_ncfr_failure&quot;\tTEXT,<br>\t&quot;has_damage_gable_failure&quot;\tTEXT,<br>\t&quot;has_damage_delamination_failure&quot;\tTEXT,<br>\t&quot;has_damage_column_failure&quot;\tTEXT,<br>\t&quot;has_damage_beam_failure&quot;\tTEXT,<br>\t&quot;has_damage_infill_partition_failure&quot;\tTEXT,<br>\t&quot;has_damage_staircase&quot;\tTEXT,<br>\t&quot;has_damage_parapet&quot;\tTEXT,<br>\t&quot;has_damage_cladding_glazing&quot;\tTEXT,<br>\t&quot;has_geotechnical_risk&quot;\tREAL,<br>\t&quot;has_geotechnical_risk_land_settlement&quot;\tINTEGER,<br>\t&quot;has_geotechnical_risk_fault_crack&quot;\tINTEGER,<br>\t&quot;has_geotechnical_risk_liquefaction&quot;\tINTEGER,<br>\t&quot;has_geotechnical_risk_landslide&quot;\tINTEGER,<br>\t&quot;has_geotechnical_risk_rock_fall&quot;\tINTEGER,<br>\t&quot;has_geotechnical_risk_flood&quot;\tINTEGER,<br>\t&quot;has_geotechnical_risk_other&quot;\tINTEGER<br>)</td>\n",
       "        </tr>\n",
       "        <tr>\n",
       "            <td>table</td>\n",
       "            <td>building_structure</td>\n",
       "            <td>building_structure</td>\n",
       "            <td>78109</td>\n",
       "            <td>CREATE TABLE &quot;building_structure&quot; (<br>\t&quot;age_building&quot;\tINTEGER,<br>\t&quot;building_id&quot;\tREAL,<br>\t&quot;condition_post_eq&quot;\tTEXT,<br>\t&quot;count_floors_post_eq&quot;\tINTEGER,<br>\t&quot;count_floors_pre_eq&quot;\tINTEGER,<br>\t&quot;foundation_type&quot;\tTEXT,<br>\t&quot;ground_floor_type&quot;\tTEXT,<br>\t&quot;height_ft_post_eq&quot;\tINTEGER,<br>\t&quot;height_ft_pre_eq&quot;\tINTEGER,<br>\t&quot;land_surface_condition&quot;\tTEXT,<br>\t&quot;other_floor_type&quot;\tTEXT,<br>\t&quot;plan_configuration&quot;\tTEXT,<br>\t&quot;plinth_area_sq_ft&quot;\tINTEGER,<br>\t&quot;position&quot;\tTEXT,<br>\t&quot;roof_type&quot;\tTEXT,<br>\t&quot;superstructure&quot;\tTEXT<br>)</td>\n",
       "        </tr>\n",
       "        <tr>\n",
       "            <td>table</td>\n",
       "            <td>household_demographics</td>\n",
       "            <td>household_demographics</td>\n",
       "            <td>109183</td>\n",
       "            <td>CREATE TABLE &quot;household_demographics&quot; (<br>\t&quot;household_id&quot;\tREAL,<br>\t&quot;gender_household_head&quot;\tTEXT,<br>\t&quot;age_household_head&quot;\tREAL,<br>\t&quot;caste_household&quot;\tTEXT,<br>\t&quot;education_level_household_head&quot;\tTEXT,<br>\t&quot;income_level_household&quot;\tTEXT,<br>\t&quot;size_household&quot;\tREAL,<br>\t&quot;is_bank_account_present_in_household&quot;\tREAL<br>)</td>\n",
       "        </tr>\n",
       "        <tr>\n",
       "            <td>table</td>\n",
       "            <td>id_map</td>\n",
       "            <td>id_map</td>\n",
       "            <td>3</td>\n",
       "            <td>CREATE TABLE &quot;id_map&quot; (<br>\t&quot;building_id&quot;\tREAL,<br>\t&quot;district_id&quot;\tINTEGER,<br>\t&quot;vdcmun_id&quot;\tINTEGER,<br>\t&quot;household_id&quot;\tTEXT<br>)</td>\n",
       "        </tr>\n",
       "    </tbody>\n",
       "</table>"
      ],
      "text/plain": [
       "[('table', 'building_damage', 'building_damage', 24282, 'CREATE TABLE \"building_damage\" (\\n\\t\"area_assesed\"\\tTEXT,\\n\\t\"building_id\"\\tREAL,\\n\\t\"damage_overall_collapse\"\\tTEXT,\\n\\t\"damage_overall_leaning\"\\tTE ... (3025 characters truncated) ... ide\"\\tINTEGER,\\n\\t\"has_geotechnical_risk_rock_fall\"\\tINTEGER,\\n\\t\"has_geotechnical_risk_flood\"\\tINTEGER,\\n\\t\"has_geotechnical_risk_other\"\\tINTEGER\\n)'),\n",
       " ('table', 'building_structure', 'building_structure', 78109, 'CREATE TABLE \"building_structure\" (\\n\\t\"age_building\"\\tINTEGER,\\n\\t\"building_id\"\\tREAL,\\n\\t\"condition_post_eq\"\\tTEXT,\\n\\t\"count_floors_post_eq\"\\tINTE ... (213 characters truncated) ... _type\"\\tTEXT,\\n\\t\"plan_configuration\"\\tTEXT,\\n\\t\"plinth_area_sq_ft\"\\tINTEGER,\\n\\t\"position\"\\tTEXT,\\n\\t\"roof_type\"\\tTEXT,\\n\\t\"superstructure\"\\tTEXT\\n)'),\n",
       " ('table', 'household_demographics', 'household_demographics', 109183, 'CREATE TABLE \"household_demographics\" (\\n\\t\"household_id\"\\tREAL,\\n\\t\"gender_household_head\"\\tTEXT,\\n\\t\"age_household_head\"\\tREAL,\\n\\t\"caste_household ... (15 characters truncated) ... ucation_level_household_head\"\\tTEXT,\\n\\t\"income_level_household\"\\tTEXT,\\n\\t\"size_household\"\\tREAL,\\n\\t\"is_bank_account_present_in_household\"\\tREAL\\n)'),\n",
       " ('table', 'id_map', 'id_map', 3, 'CREATE TABLE \"id_map\" (\\n\\t\"building_id\"\\tREAL,\\n\\t\"district_id\"\\tINTEGER,\\n\\t\"vdcmun_id\"\\tINTEGER,\\n\\t\"household_id\"\\tTEXT\\n)')]"
      ]
     },
     "execution_count": 3,
     "metadata": {},
     "output_type": "execute_result"
    }
   ],
   "source": [
    "%%sql\n",
    "select * from sqlite_schema"
   ]
  },
  {
   "cell_type": "code",
   "execution_count": 7,
   "id": "8a57282e-2f10-48b9-8c17-9b8e9299a580",
   "metadata": {},
   "outputs": [
    {
     "name": "stdout",
     "output_type": "stream",
     "text": [
      " * sqlite:///nepal_eq.db\n",
      "Done.\n"
     ]
    },
    {
     "data": {
      "text/html": [
       "<table>\n",
       "    <thead>\n",
       "        <tr>\n",
       "            <th>name</th>\n",
       "        </tr>\n",
       "    </thead>\n",
       "    <tbody>\n",
       "        <tr>\n",
       "            <td>building_damage</td>\n",
       "        </tr>\n",
       "        <tr>\n",
       "            <td>building_structure</td>\n",
       "        </tr>\n",
       "        <tr>\n",
       "            <td>household_demographics</td>\n",
       "        </tr>\n",
       "        <tr>\n",
       "            <td>id_map</td>\n",
       "        </tr>\n",
       "    </tbody>\n",
       "</table>"
      ],
      "text/plain": [
       "[('building_damage',),\n",
       " ('building_structure',),\n",
       " ('household_demographics',),\n",
       " ('id_map',)]"
      ]
     },
     "execution_count": 7,
     "metadata": {},
     "output_type": "execute_result"
    }
   ],
   "source": [
    "%%sql\n",
    "select name from sqlite_schema\n",
    "where type = 'table'"
   ]
  },
  {
   "cell_type": "code",
   "execution_count": 8,
   "id": "6f9816d2-fc37-4db7-87da-a9ee65e88889",
   "metadata": {},
   "outputs": [
    {
     "name": "stdout",
     "output_type": "stream",
     "text": [
      " * sqlite:///nepal_eq.db\n",
      "Done.\n"
     ]
    },
    {
     "data": {
      "text/html": [
       "<table>\n",
       "    <thead>\n",
       "        <tr>\n",
       "            <th>building_id</th>\n",
       "            <th>district_id</th>\n",
       "            <th>vdcmun_id</th>\n",
       "            <th>household_id</th>\n",
       "        </tr>\n",
       "    </thead>\n",
       "    <tbody>\n",
       "        <tr>\n",
       "            <td>120101000011.0</td>\n",
       "            <td>12</td>\n",
       "            <td>1207</td>\n",
       "            <td>12010100001101.0</td>\n",
       "        </tr>\n",
       "        <tr>\n",
       "            <td>120101000021.0</td>\n",
       "            <td>12</td>\n",
       "            <td>1207</td>\n",
       "            <td>12010100002101.0</td>\n",
       "        </tr>\n",
       "        <tr>\n",
       "            <td>120101000031.0</td>\n",
       "            <td>12</td>\n",
       "            <td>1207</td>\n",
       "            <td>12010100003101.0</td>\n",
       "        </tr>\n",
       "        <tr>\n",
       "            <td>120101000041.0</td>\n",
       "            <td>12</td>\n",
       "            <td>1207</td>\n",
       "            <td>12010100004101.0</td>\n",
       "        </tr>\n",
       "        <tr>\n",
       "            <td>120101000051.0</td>\n",
       "            <td>12</td>\n",
       "            <td>1207</td>\n",
       "            <td>12010100005101.0</td>\n",
       "        </tr>\n",
       "    </tbody>\n",
       "</table>"
      ],
      "text/plain": [
       "[(120101000011.0, 12, 1207, '12010100001101.0'),\n",
       " (120101000021.0, 12, 1207, '12010100002101.0'),\n",
       " (120101000031.0, 12, 1207, '12010100003101.0'),\n",
       " (120101000041.0, 12, 1207, '12010100004101.0'),\n",
       " (120101000051.0, 12, 1207, '12010100005101.0')]"
      ]
     },
     "execution_count": 8,
     "metadata": {},
     "output_type": "execute_result"
    }
   ],
   "source": [
    "%%sql\n",
    "select * from id_map\n",
    "limit 5"
   ]
  },
  {
   "cell_type": "code",
   "execution_count": 9,
   "id": "91e953f1-3db7-418e-8f4f-8da649447b3b",
   "metadata": {},
   "outputs": [
    {
     "name": "stdout",
     "output_type": "stream",
     "text": [
      " * sqlite:///nepal_eq.db\n",
      "Done.\n"
     ]
    },
    {
     "data": {
      "text/html": [
       "<table>\n",
       "    <thead>\n",
       "        <tr>\n",
       "            <th>count(building_id)</th>\n",
       "        </tr>\n",
       "    </thead>\n",
       "    <tbody>\n",
       "        <tr>\n",
       "            <td>818786</td>\n",
       "        </tr>\n",
       "    </tbody>\n",
       "</table>"
      ],
      "text/plain": [
       "[(818786,)]"
      ]
     },
     "execution_count": 9,
     "metadata": {},
     "output_type": "execute_result"
    }
   ],
   "source": [
    "%%sql\n",
    "select count(building_id) from id_map"
   ]
  },
  {
   "cell_type": "code",
   "execution_count": 10,
   "id": "1c7d0ab6-9af2-49e4-8115-31cd21b2fc77",
   "metadata": {},
   "outputs": [
    {
     "name": "stdout",
     "output_type": "stream",
     "text": [
      " * sqlite:///nepal_eq.db\n",
      "Done.\n"
     ]
    },
    {
     "data": {
      "text/html": [
       "<table>\n",
       "    <thead>\n",
       "        <tr>\n",
       "            <th>count(*)</th>\n",
       "        </tr>\n",
       "    </thead>\n",
       "    <tbody>\n",
       "        <tr>\n",
       "            <td>818786</td>\n",
       "        </tr>\n",
       "    </tbody>\n",
       "</table>"
      ],
      "text/plain": [
       "[(818786,)]"
      ]
     },
     "execution_count": 10,
     "metadata": {},
     "output_type": "execute_result"
    }
   ],
   "source": [
    "%%sql\n",
    "select count(*) from id_map"
   ]
  },
  {
   "cell_type": "code",
   "execution_count": 13,
   "id": "f921dec7-b2d0-402b-88dd-25c9f8f77b9e",
   "metadata": {},
   "outputs": [
    {
     "name": "stdout",
     "output_type": "stream",
     "text": [
      " * sqlite:///nepal_eq.db\n",
      "Done.\n"
     ]
    },
    {
     "data": {
      "text/html": [
       "<table>\n",
       "    <thead>\n",
       "        <tr>\n",
       "            <th>district_id</th>\n",
       "        </tr>\n",
       "    </thead>\n",
       "    <tbody>\n",
       "        <tr>\n",
       "            <td>12</td>\n",
       "        </tr>\n",
       "        <tr>\n",
       "            <td>20</td>\n",
       "        </tr>\n",
       "        <tr>\n",
       "            <td>21</td>\n",
       "        </tr>\n",
       "        <tr>\n",
       "            <td>22</td>\n",
       "        </tr>\n",
       "        <tr>\n",
       "            <td>23</td>\n",
       "        </tr>\n",
       "        <tr>\n",
       "            <td>24</td>\n",
       "        </tr>\n",
       "        <tr>\n",
       "            <td>28</td>\n",
       "        </tr>\n",
       "        <tr>\n",
       "            <td>29</td>\n",
       "        </tr>\n",
       "        <tr>\n",
       "            <td>30</td>\n",
       "        </tr>\n",
       "        <tr>\n",
       "            <td>31</td>\n",
       "        </tr>\n",
       "        <tr>\n",
       "            <td>36</td>\n",
       "        </tr>\n",
       "    </tbody>\n",
       "</table>"
      ],
      "text/plain": [
       "[(12,), (20,), (21,), (22,), (23,), (24,), (28,), (29,), (30,), (31,), (36,)]"
      ]
     },
     "execution_count": 13,
     "metadata": {},
     "output_type": "execute_result"
    }
   ],
   "source": [
    "%%sql\n",
    "select distinct(district_id) from id_map"
   ]
  },
  {
   "cell_type": "code",
   "execution_count": 14,
   "id": "73425550-0c8b-4ae3-8aa7-011f0830b266",
   "metadata": {},
   "outputs": [
    {
     "name": "stdout",
     "output_type": "stream",
     "text": [
      " * sqlite:///nepal_eq.db\n",
      "Done.\n"
     ]
    },
    {
     "data": {
      "text/html": [
       "<table>\n",
       "    <thead>\n",
       "        <tr>\n",
       "            <th>count(distinct(building_id))</th>\n",
       "        </tr>\n",
       "    </thead>\n",
       "    <tbody>\n",
       "        <tr>\n",
       "            <td>762106</td>\n",
       "        </tr>\n",
       "    </tbody>\n",
       "</table>"
      ],
      "text/plain": [
       "[(762106,)]"
      ]
     },
     "execution_count": 14,
     "metadata": {},
     "output_type": "execute_result"
    }
   ],
   "source": [
    "%%sql\n",
    "select count(distinct(building_id)) from id_map"
   ]
  },
  {
   "cell_type": "code",
   "execution_count": 18,
   "id": "eb900cfc-ee36-4e0c-9c8e-de3370d67b9d",
   "metadata": {},
   "outputs": [
    {
     "name": "stdout",
     "output_type": "stream",
     "text": [
      " * sqlite:///nepal_eq.db\n",
      "Done.\n"
     ]
    },
    {
     "data": {
      "text/html": [
       "<table>\n",
       "    <thead>\n",
       "        <tr>\n",
       "            <th>count(distinct(district_id))</th>\n",
       "        </tr>\n",
       "    </thead>\n",
       "    <tbody>\n",
       "        <tr>\n",
       "            <td>11</td>\n",
       "        </tr>\n",
       "    </tbody>\n",
       "</table>"
      ],
      "text/plain": [
       "[(11,)]"
      ]
     },
     "execution_count": 18,
     "metadata": {},
     "output_type": "execute_result"
    }
   ],
   "source": [
    "%%sql\n",
    "select count(distinct(district_id)) from id_map"
   ]
  },
  {
   "cell_type": "code",
   "execution_count": 21,
   "id": "690e220b-5d99-4b0c-8740-dbc366a92b2a",
   "metadata": {},
   "outputs": [
    {
     "name": "stdout",
     "output_type": "stream",
     "text": [
      " * sqlite:///nepal_eq.db\n",
      "Done.\n"
     ]
    },
    {
     "data": {
      "text/html": [
       "<table>\n",
       "    <thead>\n",
       "        <tr>\n",
       "            <th>count(distinct(building_id))</th>\n",
       "        </tr>\n",
       "    </thead>\n",
       "    <tbody>\n",
       "        <tr>\n",
       "            <td>78074</td>\n",
       "        </tr>\n",
       "    </tbody>\n",
       "</table>"
      ],
      "text/plain": [
       "[(78074,)]"
      ]
     },
     "execution_count": 21,
     "metadata": {},
     "output_type": "execute_result"
    }
   ],
   "source": [
    "%%sql\n",
    "select count(distinct(building_id)) from id_map\n",
    "where district_id = 36"
   ]
  },
  {
   "cell_type": "code",
   "execution_count": 23,
   "id": "439da739-6ec7-44f5-b261-5571677bd024",
   "metadata": {},
   "outputs": [
    {
     "name": "stdout",
     "output_type": "stream",
     "text": [
      " * sqlite:///nepal_eq.db\n",
      "Done.\n"
     ]
    },
    {
     "data": {
      "text/html": [
       "<table>\n",
       "    <thead>\n",
       "        <tr>\n",
       "            <th>age_building</th>\n",
       "            <th>building_id</th>\n",
       "            <th>condition_post_eq</th>\n",
       "            <th>count_floors_post_eq</th>\n",
       "            <th>count_floors_pre_eq</th>\n",
       "            <th>foundation_type</th>\n",
       "            <th>ground_floor_type</th>\n",
       "            <th>height_ft_post_eq</th>\n",
       "            <th>height_ft_pre_eq</th>\n",
       "            <th>land_surface_condition</th>\n",
       "            <th>other_floor_type</th>\n",
       "            <th>plan_configuration</th>\n",
       "            <th>plinth_area_sq_ft</th>\n",
       "            <th>position</th>\n",
       "            <th>roof_type</th>\n",
       "            <th>superstructure</th>\n",
       "        </tr>\n",
       "    </thead>\n",
       "    <tbody>\n",
       "        <tr>\n",
       "            <td>9</td>\n",
       "            <td>120101000011.0</td>\n",
       "            <td>Damaged-Used in risk</td>\n",
       "            <td>1</td>\n",
       "            <td>1</td>\n",
       "            <td>Other</td>\n",
       "            <td>Mud</td>\n",
       "            <td>9</td>\n",
       "            <td>9</td>\n",
       "            <td>Flat</td>\n",
       "            <td>Not applicable</td>\n",
       "            <td>Rectangular</td>\n",
       "            <td>288</td>\n",
       "            <td>Not attached</td>\n",
       "            <td>Bamboo/Timber-Light roof</td>\n",
       "            <td>mud_mortar_stone</td>\n",
       "        </tr>\n",
       "        <tr>\n",
       "            <td>15</td>\n",
       "            <td>120101000021.0</td>\n",
       "            <td>Damaged-Repaired and used</td>\n",
       "            <td>1</td>\n",
       "            <td>1</td>\n",
       "            <td>Other</td>\n",
       "            <td>Mud</td>\n",
       "            <td>9</td>\n",
       "            <td>9</td>\n",
       "            <td>Flat</td>\n",
       "            <td>Not applicable</td>\n",
       "            <td>Rectangular</td>\n",
       "            <td>364</td>\n",
       "            <td>Not attached</td>\n",
       "            <td>Bamboo/Timber-Light roof</td>\n",
       "            <td>mud_mortar_stone</td>\n",
       "        </tr>\n",
       "        <tr>\n",
       "            <td>20</td>\n",
       "            <td>120101000031.0</td>\n",
       "            <td>Damaged-Repaired and used</td>\n",
       "            <td>1</td>\n",
       "            <td>1</td>\n",
       "            <td>Other</td>\n",
       "            <td>Mud</td>\n",
       "            <td>9</td>\n",
       "            <td>9</td>\n",
       "            <td>Flat</td>\n",
       "            <td>Not applicable</td>\n",
       "            <td>Rectangular</td>\n",
       "            <td>384</td>\n",
       "            <td>Not attached</td>\n",
       "            <td>Bamboo/Timber-Light roof</td>\n",
       "            <td>mud_mortar_stone</td>\n",
       "        </tr>\n",
       "        <tr>\n",
       "            <td>20</td>\n",
       "            <td>120101000041.0</td>\n",
       "            <td>Damaged-Repaired and used</td>\n",
       "            <td>1</td>\n",
       "            <td>1</td>\n",
       "            <td>Other</td>\n",
       "            <td>Mud</td>\n",
       "            <td>9</td>\n",
       "            <td>9</td>\n",
       "            <td>Flat</td>\n",
       "            <td>Not applicable</td>\n",
       "            <td>Rectangular</td>\n",
       "            <td>312</td>\n",
       "            <td>Not attached</td>\n",
       "            <td>Bamboo/Timber-Light roof</td>\n",
       "            <td>mud_mortar_stone</td>\n",
       "        </tr>\n",
       "        <tr>\n",
       "            <td>30</td>\n",
       "            <td>120101000051.0</td>\n",
       "            <td>Damaged-Repaired and used</td>\n",
       "            <td>1</td>\n",
       "            <td>1</td>\n",
       "            <td>Other</td>\n",
       "            <td>Mud</td>\n",
       "            <td>9</td>\n",
       "            <td>9</td>\n",
       "            <td>Flat</td>\n",
       "            <td>Not applicable</td>\n",
       "            <td>Rectangular</td>\n",
       "            <td>308</td>\n",
       "            <td>Not attached</td>\n",
       "            <td>Bamboo/Timber-Light roof</td>\n",
       "            <td>mud_mortar_stone</td>\n",
       "        </tr>\n",
       "    </tbody>\n",
       "</table>"
      ],
      "text/plain": [
       "[(9, 120101000011.0, 'Damaged-Used in risk', 1, 1, 'Other', 'Mud', 9, 9, 'Flat', 'Not applicable', 'Rectangular', 288, 'Not attached', 'Bamboo/Timber-Light roof', 'mud_mortar_stone'),\n",
       " (15, 120101000021.0, 'Damaged-Repaired and used', 1, 1, 'Other', 'Mud', 9, 9, 'Flat', 'Not applicable', 'Rectangular', 364, 'Not attached', 'Bamboo/Timber-Light roof', 'mud_mortar_stone'),\n",
       " (20, 120101000031.0, 'Damaged-Repaired and used', 1, 1, 'Other', 'Mud', 9, 9, 'Flat', 'Not applicable', 'Rectangular', 384, 'Not attached', 'Bamboo/Timber-Light roof', 'mud_mortar_stone'),\n",
       " (20, 120101000041.0, 'Damaged-Repaired and used', 1, 1, 'Other', 'Mud', 9, 9, 'Flat', 'Not applicable', 'Rectangular', 312, 'Not attached', 'Bamboo/Timber-Light roof', 'mud_mortar_stone'),\n",
       " (30, 120101000051.0, 'Damaged-Repaired and used', 1, 1, 'Other', 'Mud', 9, 9, 'Flat', 'Not applicable', 'Rectangular', 308, 'Not attached', 'Bamboo/Timber-Light roof', 'mud_mortar_stone')]"
      ]
     },
     "execution_count": 23,
     "metadata": {},
     "output_type": "execute_result"
    }
   ],
   "source": [
    "%%sql\n",
    "select * from building_structure\n",
    "limit 5"
   ]
  },
  {
   "cell_type": "code",
   "execution_count": 24,
   "id": "203b3f2b-1479-49b3-afd4-ebc77969fe36",
   "metadata": {},
   "outputs": [
    {
     "name": "stdout",
     "output_type": "stream",
     "text": [
      " * sqlite:///nepal_eq.db\n",
      "Done.\n"
     ]
    },
    {
     "data": {
      "text/html": [
       "<table>\n",
       "    <thead>\n",
       "        <tr>\n",
       "            <th>count(distinct(building_id))</th>\n",
       "        </tr>\n",
       "    </thead>\n",
       "    <tbody>\n",
       "        <tr>\n",
       "            <td>762106</td>\n",
       "        </tr>\n",
       "    </tbody>\n",
       "</table>"
      ],
      "text/plain": [
       "[(762106,)]"
      ]
     },
     "execution_count": 24,
     "metadata": {},
     "output_type": "execute_result"
    }
   ],
   "source": [
    "%%sql\n",
    "select count(distinct(building_id)) from building_structure"
   ]
  },
  {
   "cell_type": "code",
   "execution_count": 34,
   "id": "b634cef6-a352-4e1a-8efa-d5336d42346a",
   "metadata": {},
   "outputs": [
    {
     "name": "stdout",
     "output_type": "stream",
     "text": [
      " * sqlite:///nepal_eq.db\n",
      "Done.\n"
     ]
    },
    {
     "data": {
      "text/html": [
       "<table>\n",
       "    <thead>\n",
       "        <tr>\n",
       "            <th>building_id</th>\n",
       "            <th>district_id</th>\n",
       "            <th>vdcmun_id</th>\n",
       "            <th>household_id</th>\n",
       "            <th>age_building</th>\n",
       "            <th>building_id_1</th>\n",
       "            <th>condition_post_eq</th>\n",
       "            <th>count_floors_post_eq</th>\n",
       "            <th>count_floors_pre_eq</th>\n",
       "            <th>foundation_type</th>\n",
       "            <th>ground_floor_type</th>\n",
       "            <th>height_ft_post_eq</th>\n",
       "            <th>height_ft_pre_eq</th>\n",
       "            <th>land_surface_condition</th>\n",
       "            <th>other_floor_type</th>\n",
       "            <th>plan_configuration</th>\n",
       "            <th>plinth_area_sq_ft</th>\n",
       "            <th>position</th>\n",
       "            <th>roof_type</th>\n",
       "            <th>superstructure</th>\n",
       "        </tr>\n",
       "    </thead>\n",
       "    <tbody>\n",
       "        <tr>\n",
       "            <td>360106001171.0</td>\n",
       "            <td>36</td>\n",
       "            <td>3609</td>\n",
       "            <td>None</td>\n",
       "            <td>4</td>\n",
       "            <td>360106001171.0</td>\n",
       "            <td>Damaged-Rubble unclear</td>\n",
       "            <td>0</td>\n",
       "            <td>2</td>\n",
       "            <td>Mud mortar-Stone/Brick</td>\n",
       "            <td>Mud</td>\n",
       "            <td>0</td>\n",
       "            <td>18</td>\n",
       "            <td>Flat</td>\n",
       "            <td>TImber/Bamboo-Mud</td>\n",
       "            <td>Rectangular</td>\n",
       "            <td>280</td>\n",
       "            <td>Not attached</td>\n",
       "            <td>Bamboo/Timber-Light roof</td>\n",
       "            <td>mud_mortar_stone</td>\n",
       "        </tr>\n",
       "        <tr>\n",
       "            <td>360106001181.0</td>\n",
       "            <td>36</td>\n",
       "            <td>3609</td>\n",
       "            <td>36010600118101.0</td>\n",
       "            <td>15</td>\n",
       "            <td>360106001181.0</td>\n",
       "            <td>Damaged-Rubble unclear</td>\n",
       "            <td>0</td>\n",
       "            <td>1</td>\n",
       "            <td>Mud mortar-Stone/Brick</td>\n",
       "            <td>Mud</td>\n",
       "            <td>0</td>\n",
       "            <td>18</td>\n",
       "            <td>Flat</td>\n",
       "            <td>Not applicable</td>\n",
       "            <td>Rectangular</td>\n",
       "            <td>120</td>\n",
       "            <td>Attached-1 side</td>\n",
       "            <td>Bamboo/Timber-Light roof</td>\n",
       "            <td>mud_mortar_stone</td>\n",
       "        </tr>\n",
       "        <tr>\n",
       "            <td>360107000161.0</td>\n",
       "            <td>36</td>\n",
       "            <td>3609</td>\n",
       "            <td>36010700016101.0</td>\n",
       "            <td>25</td>\n",
       "            <td>360107000161.0</td>\n",
       "            <td>Damaged-Rubble unclear</td>\n",
       "            <td>0</td>\n",
       "            <td>2</td>\n",
       "            <td>Mud mortar-Stone/Brick</td>\n",
       "            <td>Mud</td>\n",
       "            <td>0</td>\n",
       "            <td>14</td>\n",
       "            <td>Flat</td>\n",
       "            <td>TImber/Bamboo-Mud</td>\n",
       "            <td>Rectangular</td>\n",
       "            <td>300</td>\n",
       "            <td>Not attached</td>\n",
       "            <td>Bamboo/Timber-Light roof</td>\n",
       "            <td>mud_mortar_stone</td>\n",
       "        </tr>\n",
       "        <tr>\n",
       "            <td>360107000381.0</td>\n",
       "            <td>36</td>\n",
       "            <td>3609</td>\n",
       "            <td>36010700038101.0</td>\n",
       "            <td>22</td>\n",
       "            <td>360107000381.0</td>\n",
       "            <td>Damaged-Rubble clear</td>\n",
       "            <td>0</td>\n",
       "            <td>2</td>\n",
       "            <td>Mud mortar-Stone/Brick</td>\n",
       "            <td>Mud</td>\n",
       "            <td>0</td>\n",
       "            <td>16</td>\n",
       "            <td>Flat</td>\n",
       "            <td>TImber/Bamboo-Mud</td>\n",
       "            <td>Rectangular</td>\n",
       "            <td>155</td>\n",
       "            <td>Not attached</td>\n",
       "            <td>Bamboo/Timber-Light roof</td>\n",
       "            <td>mud_mortar_stone</td>\n",
       "        </tr>\n",
       "        <tr>\n",
       "            <td>360202000691.0</td>\n",
       "            <td>36</td>\n",
       "            <td>3601</td>\n",
       "            <td>None</td>\n",
       "            <td>20</td>\n",
       "            <td>360202000691.0</td>\n",
       "            <td>Damaged-Rubble unclear</td>\n",
       "            <td>0</td>\n",
       "            <td>2</td>\n",
       "            <td>Mud mortar-Stone/Brick</td>\n",
       "            <td>Brick/Stone</td>\n",
       "            <td>0</td>\n",
       "            <td>14</td>\n",
       "            <td>Flat</td>\n",
       "            <td>TImber/Bamboo-Mud</td>\n",
       "            <td>Rectangular</td>\n",
       "            <td>240</td>\n",
       "            <td>Attached-1 side</td>\n",
       "            <td>Bamboo/Timber-Heavy roof</td>\n",
       "            <td>mud_mortar_stone</td>\n",
       "        </tr>\n",
       "    </tbody>\n",
       "</table>"
      ],
      "text/plain": [
       "[(360106001171.0, 36, 3609, None, 4, 360106001171.0, 'Damaged-Rubble unclear', 0, 2, 'Mud mortar-Stone/Brick', 'Mud', 0, 18, 'Flat', 'TImber/Bamboo-Mud', 'Rectangular', 280, 'Not attached', 'Bamboo/Timber-Light roof', 'mud_mortar_stone'),\n",
       " (360106001181.0, 36, 3609, '36010600118101.0', 15, 360106001181.0, 'Damaged-Rubble unclear', 0, 1, 'Mud mortar-Stone/Brick', 'Mud', 0, 18, 'Flat', 'Not applicable', 'Rectangular', 120, 'Attached-1 side', 'Bamboo/Timber-Light roof', 'mud_mortar_stone'),\n",
       " (360107000161.0, 36, 3609, '36010700016101.0', 25, 360107000161.0, 'Damaged-Rubble unclear', 0, 2, 'Mud mortar-Stone/Brick', 'Mud', 0, 14, 'Flat', 'TImber/Bamboo-Mud', 'Rectangular', 300, 'Not attached', 'Bamboo/Timber-Light roof', 'mud_mortar_stone'),\n",
       " (360107000381.0, 36, 3609, '36010700038101.0', 22, 360107000381.0, 'Damaged-Rubble clear', 0, 2, 'Mud mortar-Stone/Brick', 'Mud', 0, 16, 'Flat', 'TImber/Bamboo-Mud', 'Rectangular', 155, 'Not attached', 'Bamboo/Timber-Light roof', 'mud_mortar_stone'),\n",
       " (360202000691.0, 36, 3601, None, 20, 360202000691.0, 'Damaged-Rubble unclear', 0, 2, 'Mud mortar-Stone/Brick', 'Brick/Stone', 0, 14, 'Flat', 'TImber/Bamboo-Mud', 'Rectangular', 240, 'Attached-1 side', 'Bamboo/Timber-Heavy roof', 'mud_mortar_stone')]"
      ]
     },
     "execution_count": 34,
     "metadata": {},
     "output_type": "execute_result"
    }
   ],
   "source": [
    "%%sql\n",
    "select * from id_map i\n",
    "join building_structure b\n",
    "on i.building_id = b.building_id\n",
    "where i.district_id = 36\n",
    "limit 5"
   ]
  },
  {
   "cell_type": "code",
   "execution_count": 37,
   "id": "3cc1ece0-9b8f-48c3-8077-4f1dae95b0b1",
   "metadata": {},
   "outputs": [
    {
     "name": "stdout",
     "output_type": "stream",
     "text": [
      " * sqlite:///nepal_eq.db\n",
      "Done.\n"
     ]
    },
    {
     "data": {
      "text/html": [
       "<table>\n",
       "    <thead>\n",
       "        <tr>\n",
       "            <th>building_id</th>\n",
       "            <th>age_building</th>\n",
       "            <th>building_id_1</th>\n",
       "            <th>condition_post_eq</th>\n",
       "            <th>count_floors_post_eq</th>\n",
       "            <th>count_floors_pre_eq</th>\n",
       "            <th>foundation_type</th>\n",
       "            <th>ground_floor_type</th>\n",
       "            <th>height_ft_post_eq</th>\n",
       "            <th>height_ft_pre_eq</th>\n",
       "            <th>land_surface_condition</th>\n",
       "            <th>other_floor_type</th>\n",
       "            <th>plan_configuration</th>\n",
       "            <th>plinth_area_sq_ft</th>\n",
       "            <th>position</th>\n",
       "            <th>roof_type</th>\n",
       "            <th>superstructure</th>\n",
       "        </tr>\n",
       "    </thead>\n",
       "    <tbody>\n",
       "        <tr>\n",
       "            <td>360106001171.0</td>\n",
       "            <td>4</td>\n",
       "            <td>360106001171.0</td>\n",
       "            <td>Damaged-Rubble unclear</td>\n",
       "            <td>0</td>\n",
       "            <td>2</td>\n",
       "            <td>Mud mortar-Stone/Brick</td>\n",
       "            <td>Mud</td>\n",
       "            <td>0</td>\n",
       "            <td>18</td>\n",
       "            <td>Flat</td>\n",
       "            <td>TImber/Bamboo-Mud</td>\n",
       "            <td>Rectangular</td>\n",
       "            <td>280</td>\n",
       "            <td>Not attached</td>\n",
       "            <td>Bamboo/Timber-Light roof</td>\n",
       "            <td>mud_mortar_stone</td>\n",
       "        </tr>\n",
       "        <tr>\n",
       "            <td>360106001181.0</td>\n",
       "            <td>15</td>\n",
       "            <td>360106001181.0</td>\n",
       "            <td>Damaged-Rubble unclear</td>\n",
       "            <td>0</td>\n",
       "            <td>1</td>\n",
       "            <td>Mud mortar-Stone/Brick</td>\n",
       "            <td>Mud</td>\n",
       "            <td>0</td>\n",
       "            <td>18</td>\n",
       "            <td>Flat</td>\n",
       "            <td>Not applicable</td>\n",
       "            <td>Rectangular</td>\n",
       "            <td>120</td>\n",
       "            <td>Attached-1 side</td>\n",
       "            <td>Bamboo/Timber-Light roof</td>\n",
       "            <td>mud_mortar_stone</td>\n",
       "        </tr>\n",
       "        <tr>\n",
       "            <td>360107000161.0</td>\n",
       "            <td>25</td>\n",
       "            <td>360107000161.0</td>\n",
       "            <td>Damaged-Rubble unclear</td>\n",
       "            <td>0</td>\n",
       "            <td>2</td>\n",
       "            <td>Mud mortar-Stone/Brick</td>\n",
       "            <td>Mud</td>\n",
       "            <td>0</td>\n",
       "            <td>14</td>\n",
       "            <td>Flat</td>\n",
       "            <td>TImber/Bamboo-Mud</td>\n",
       "            <td>Rectangular</td>\n",
       "            <td>300</td>\n",
       "            <td>Not attached</td>\n",
       "            <td>Bamboo/Timber-Light roof</td>\n",
       "            <td>mud_mortar_stone</td>\n",
       "        </tr>\n",
       "        <tr>\n",
       "            <td>360107000381.0</td>\n",
       "            <td>22</td>\n",
       "            <td>360107000381.0</td>\n",
       "            <td>Damaged-Rubble clear</td>\n",
       "            <td>0</td>\n",
       "            <td>2</td>\n",
       "            <td>Mud mortar-Stone/Brick</td>\n",
       "            <td>Mud</td>\n",
       "            <td>0</td>\n",
       "            <td>16</td>\n",
       "            <td>Flat</td>\n",
       "            <td>TImber/Bamboo-Mud</td>\n",
       "            <td>Rectangular</td>\n",
       "            <td>155</td>\n",
       "            <td>Not attached</td>\n",
       "            <td>Bamboo/Timber-Light roof</td>\n",
       "            <td>mud_mortar_stone</td>\n",
       "        </tr>\n",
       "        <tr>\n",
       "            <td>360202000691.0</td>\n",
       "            <td>20</td>\n",
       "            <td>360202000691.0</td>\n",
       "            <td>Damaged-Rubble unclear</td>\n",
       "            <td>0</td>\n",
       "            <td>2</td>\n",
       "            <td>Mud mortar-Stone/Brick</td>\n",
       "            <td>Brick/Stone</td>\n",
       "            <td>0</td>\n",
       "            <td>14</td>\n",
       "            <td>Flat</td>\n",
       "            <td>TImber/Bamboo-Mud</td>\n",
       "            <td>Rectangular</td>\n",
       "            <td>240</td>\n",
       "            <td>Attached-1 side</td>\n",
       "            <td>Bamboo/Timber-Heavy roof</td>\n",
       "            <td>mud_mortar_stone</td>\n",
       "        </tr>\n",
       "    </tbody>\n",
       "</table>"
      ],
      "text/plain": [
       "[(360106001171.0, 4, 360106001171.0, 'Damaged-Rubble unclear', 0, 2, 'Mud mortar-Stone/Brick', 'Mud', 0, 18, 'Flat', 'TImber/Bamboo-Mud', 'Rectangular', 280, 'Not attached', 'Bamboo/Timber-Light roof', 'mud_mortar_stone'),\n",
       " (360106001181.0, 15, 360106001181.0, 'Damaged-Rubble unclear', 0, 1, 'Mud mortar-Stone/Brick', 'Mud', 0, 18, 'Flat', 'Not applicable', 'Rectangular', 120, 'Attached-1 side', 'Bamboo/Timber-Light roof', 'mud_mortar_stone'),\n",
       " (360107000161.0, 25, 360107000161.0, 'Damaged-Rubble unclear', 0, 2, 'Mud mortar-Stone/Brick', 'Mud', 0, 14, 'Flat', 'TImber/Bamboo-Mud', 'Rectangular', 300, 'Not attached', 'Bamboo/Timber-Light roof', 'mud_mortar_stone'),\n",
       " (360107000381.0, 22, 360107000381.0, 'Damaged-Rubble clear', 0, 2, 'Mud mortar-Stone/Brick', 'Mud', 0, 16, 'Flat', 'TImber/Bamboo-Mud', 'Rectangular', 155, 'Not attached', 'Bamboo/Timber-Light roof', 'mud_mortar_stone'),\n",
       " (360202000691.0, 20, 360202000691.0, 'Damaged-Rubble unclear', 0, 2, 'Mud mortar-Stone/Brick', 'Brick/Stone', 0, 14, 'Flat', 'TImber/Bamboo-Mud', 'Rectangular', 240, 'Attached-1 side', 'Bamboo/Timber-Heavy roof', 'mud_mortar_stone')]"
      ]
     },
     "execution_count": 37,
     "metadata": {},
     "output_type": "execute_result"
    }
   ],
   "source": [
    "%%sql\n",
    "select distinct(i.building_id), b.* from id_map i\n",
    "join building_structure b\n",
    "on i.building_id = b.building_id\n",
    "where i.district_id = 36\n",
    "limit 5"
   ]
  },
  {
   "cell_type": "code",
   "execution_count": 43,
   "id": "4af76dac-7540-4352-ad21-706f779a6f4c",
   "metadata": {},
   "outputs": [
    {
     "name": "stdout",
     "output_type": "stream",
     "text": [
      " * sqlite:///nepal_eq.db\n",
      "Done.\n"
     ]
    },
    {
     "data": {
      "text/html": [
       "<table>\n",
       "    <thead>\n",
       "        <tr>\n",
       "            <th>b_id</th>\n",
       "            <th>age_building</th>\n",
       "            <th>building_id</th>\n",
       "            <th>condition_post_eq</th>\n",
       "            <th>count_floors_post_eq</th>\n",
       "            <th>count_floors_pre_eq</th>\n",
       "            <th>foundation_type</th>\n",
       "            <th>ground_floor_type</th>\n",
       "            <th>height_ft_post_eq</th>\n",
       "            <th>height_ft_pre_eq</th>\n",
       "            <th>land_surface_condition</th>\n",
       "            <th>other_floor_type</th>\n",
       "            <th>plan_configuration</th>\n",
       "            <th>plinth_area_sq_ft</th>\n",
       "            <th>position</th>\n",
       "            <th>roof_type</th>\n",
       "            <th>superstructure</th>\n",
       "            <th>damage_grade</th>\n",
       "        </tr>\n",
       "    </thead>\n",
       "    <tbody>\n",
       "        <tr>\n",
       "            <td>360106001171.0</td>\n",
       "            <td>4</td>\n",
       "            <td>360106001171.0</td>\n",
       "            <td>Damaged-Rubble unclear</td>\n",
       "            <td>0</td>\n",
       "            <td>2</td>\n",
       "            <td>Mud mortar-Stone/Brick</td>\n",
       "            <td>Mud</td>\n",
       "            <td>0</td>\n",
       "            <td>18</td>\n",
       "            <td>Flat</td>\n",
       "            <td>TImber/Bamboo-Mud</td>\n",
       "            <td>Rectangular</td>\n",
       "            <td>280</td>\n",
       "            <td>Not attached</td>\n",
       "            <td>Bamboo/Timber-Light roof</td>\n",
       "            <td>mud_mortar_stone</td>\n",
       "            <td>Grade 5</td>\n",
       "        </tr>\n",
       "        <tr>\n",
       "            <td>360106001181.0</td>\n",
       "            <td>15</td>\n",
       "            <td>360106001181.0</td>\n",
       "            <td>Damaged-Rubble unclear</td>\n",
       "            <td>0</td>\n",
       "            <td>1</td>\n",
       "            <td>Mud mortar-Stone/Brick</td>\n",
       "            <td>Mud</td>\n",
       "            <td>0</td>\n",
       "            <td>18</td>\n",
       "            <td>Flat</td>\n",
       "            <td>Not applicable</td>\n",
       "            <td>Rectangular</td>\n",
       "            <td>120</td>\n",
       "            <td>Attached-1 side</td>\n",
       "            <td>Bamboo/Timber-Light roof</td>\n",
       "            <td>mud_mortar_stone</td>\n",
       "            <td>Grade 5</td>\n",
       "        </tr>\n",
       "        <tr>\n",
       "            <td>360107000161.0</td>\n",
       "            <td>25</td>\n",
       "            <td>360107000161.0</td>\n",
       "            <td>Damaged-Rubble unclear</td>\n",
       "            <td>0</td>\n",
       "            <td>2</td>\n",
       "            <td>Mud mortar-Stone/Brick</td>\n",
       "            <td>Mud</td>\n",
       "            <td>0</td>\n",
       "            <td>14</td>\n",
       "            <td>Flat</td>\n",
       "            <td>TImber/Bamboo-Mud</td>\n",
       "            <td>Rectangular</td>\n",
       "            <td>300</td>\n",
       "            <td>Not attached</td>\n",
       "            <td>Bamboo/Timber-Light roof</td>\n",
       "            <td>mud_mortar_stone</td>\n",
       "            <td>Grade 5</td>\n",
       "        </tr>\n",
       "        <tr>\n",
       "            <td>360107000381.0</td>\n",
       "            <td>22</td>\n",
       "            <td>360107000381.0</td>\n",
       "            <td>Damaged-Rubble clear</td>\n",
       "            <td>0</td>\n",
       "            <td>2</td>\n",
       "            <td>Mud mortar-Stone/Brick</td>\n",
       "            <td>Mud</td>\n",
       "            <td>0</td>\n",
       "            <td>16</td>\n",
       "            <td>Flat</td>\n",
       "            <td>TImber/Bamboo-Mud</td>\n",
       "            <td>Rectangular</td>\n",
       "            <td>155</td>\n",
       "            <td>Not attached</td>\n",
       "            <td>Bamboo/Timber-Light roof</td>\n",
       "            <td>mud_mortar_stone</td>\n",
       "            <td>Grade 5</td>\n",
       "        </tr>\n",
       "        <tr>\n",
       "            <td>360202000691.0</td>\n",
       "            <td>20</td>\n",
       "            <td>360202000691.0</td>\n",
       "            <td>Damaged-Rubble unclear</td>\n",
       "            <td>0</td>\n",
       "            <td>2</td>\n",
       "            <td>Mud mortar-Stone/Brick</td>\n",
       "            <td>Brick/Stone</td>\n",
       "            <td>0</td>\n",
       "            <td>14</td>\n",
       "            <td>Flat</td>\n",
       "            <td>TImber/Bamboo-Mud</td>\n",
       "            <td>Rectangular</td>\n",
       "            <td>240</td>\n",
       "            <td>Attached-1 side</td>\n",
       "            <td>Bamboo/Timber-Heavy roof</td>\n",
       "            <td>mud_mortar_stone</td>\n",
       "            <td>Grade 5</td>\n",
       "        </tr>\n",
       "    </tbody>\n",
       "</table>"
      ],
      "text/plain": [
       "[(360106001171.0, 4, 360106001171.0, 'Damaged-Rubble unclear', 0, 2, 'Mud mortar-Stone/Brick', 'Mud', 0, 18, 'Flat', 'TImber/Bamboo-Mud', 'Rectangular', 280, 'Not attached', 'Bamboo/Timber-Light roof', 'mud_mortar_stone', 'Grade 5'),\n",
       " (360106001181.0, 15, 360106001181.0, 'Damaged-Rubble unclear', 0, 1, 'Mud mortar-Stone/Brick', 'Mud', 0, 18, 'Flat', 'Not applicable', 'Rectangular', 120, 'Attached-1 side', 'Bamboo/Timber-Light roof', 'mud_mortar_stone', 'Grade 5'),\n",
       " (360107000161.0, 25, 360107000161.0, 'Damaged-Rubble unclear', 0, 2, 'Mud mortar-Stone/Brick', 'Mud', 0, 14, 'Flat', 'TImber/Bamboo-Mud', 'Rectangular', 300, 'Not attached', 'Bamboo/Timber-Light roof', 'mud_mortar_stone', 'Grade 5'),\n",
       " (360107000381.0, 22, 360107000381.0, 'Damaged-Rubble clear', 0, 2, 'Mud mortar-Stone/Brick', 'Mud', 0, 16, 'Flat', 'TImber/Bamboo-Mud', 'Rectangular', 155, 'Not attached', 'Bamboo/Timber-Light roof', 'mud_mortar_stone', 'Grade 5'),\n",
       " (360202000691.0, 20, 360202000691.0, 'Damaged-Rubble unclear', 0, 2, 'Mud mortar-Stone/Brick', 'Brick/Stone', 0, 14, 'Flat', 'TImber/Bamboo-Mud', 'Rectangular', 240, 'Attached-1 side', 'Bamboo/Timber-Heavy roof', 'mud_mortar_stone', 'Grade 5')]"
      ]
     },
     "execution_count": 43,
     "metadata": {},
     "output_type": "execute_result"
    }
   ],
   "source": [
    "%%sql\n",
    "select distinct(i.building_id) as b_id, b.*, bd.damage_grade from id_map i\n",
    "join building_structure b\n",
    "on i.building_id = b.building_id\n",
    "join building_damage bd\n",
    "on i.building_id = bd.building_id\n",
    "where i.district_id = 36\n",
    "limit 5"
   ]
  },
  {
   "cell_type": "code",
   "execution_count": 40,
   "id": "25c92240-95b9-42ec-9ee9-fa3c6d85cd0c",
   "metadata": {},
   "outputs": [],
   "source": [
    "conn = sqlite3.connect(\"C:\\\\Users\\\\USER\\\\nepal_eq.db\")"
   ]
  },
  {
   "cell_type": "code",
   "execution_count": 47,
   "id": "32646b0e-b3c7-4093-ab96-39b120807714",
   "metadata": {},
   "outputs": [
    {
     "name": "stdout",
     "output_type": "stream",
     "text": [
      "\n",
      "select distinct(i.building_id) as b_id, b.*, bd.damage_grade from id_map i\n",
      "join building_structure b\n",
      "on i.building_id = b.building_id\n",
      "join building_damage bd\n",
      "on i.building_id = bd.building_id\n",
      "where i.district_id = 36\n",
      "\n"
     ]
    }
   ],
   "source": [
    "query = \"\"\"\n",
    "select distinct(i.building_id) as b_id, b.*, bd.damage_grade from id_map i\n",
    "join building_structure b\n",
    "on i.building_id = b.building_id\n",
    "join building_damage bd\n",
    "on i.building_id = bd.building_id\n",
    "where i.district_id = 36\n",
    "\"\"\"\n",
    "print(query)"
   ]
  },
  {
   "cell_type": "code",
   "execution_count": 51,
   "id": "fa732cae-101a-4395-b3ec-b2d01e67bee4",
   "metadata": {},
   "outputs": [],
   "source": [
    "import pandas as pd"
   ]
  },
  {
   "cell_type": "code",
   "execution_count": 49,
   "id": "1344e0eb-7eeb-4ecf-8713-fa5e21a0a6f9",
   "metadata": {},
   "outputs": [
    {
     "data": {
      "text/html": [
       "<div>\n",
       "<style scoped>\n",
       "    .dataframe tbody tr th:only-of-type {\n",
       "        vertical-align: middle;\n",
       "    }\n",
       "\n",
       "    .dataframe tbody tr th {\n",
       "        vertical-align: top;\n",
       "    }\n",
       "\n",
       "    .dataframe thead th {\n",
       "        text-align: right;\n",
       "    }\n",
       "</style>\n",
       "<table border=\"1\" class=\"dataframe\">\n",
       "  <thead>\n",
       "    <tr style=\"text-align: right;\">\n",
       "      <th></th>\n",
       "      <th>age_building</th>\n",
       "      <th>building_id</th>\n",
       "      <th>condition_post_eq</th>\n",
       "      <th>count_floors_post_eq</th>\n",
       "      <th>count_floors_pre_eq</th>\n",
       "      <th>foundation_type</th>\n",
       "      <th>ground_floor_type</th>\n",
       "      <th>height_ft_post_eq</th>\n",
       "      <th>height_ft_pre_eq</th>\n",
       "      <th>land_surface_condition</th>\n",
       "      <th>other_floor_type</th>\n",
       "      <th>plan_configuration</th>\n",
       "      <th>plinth_area_sq_ft</th>\n",
       "      <th>position</th>\n",
       "      <th>roof_type</th>\n",
       "      <th>superstructure</th>\n",
       "      <th>damage_grade</th>\n",
       "    </tr>\n",
       "    <tr>\n",
       "      <th>b_id</th>\n",
       "      <th></th>\n",
       "      <th></th>\n",
       "      <th></th>\n",
       "      <th></th>\n",
       "      <th></th>\n",
       "      <th></th>\n",
       "      <th></th>\n",
       "      <th></th>\n",
       "      <th></th>\n",
       "      <th></th>\n",
       "      <th></th>\n",
       "      <th></th>\n",
       "      <th></th>\n",
       "      <th></th>\n",
       "      <th></th>\n",
       "      <th></th>\n",
       "      <th></th>\n",
       "    </tr>\n",
       "  </thead>\n",
       "  <tbody>\n",
       "    <tr>\n",
       "      <th>3.601060e+11</th>\n",
       "      <td>4</td>\n",
       "      <td>3.601060e+11</td>\n",
       "      <td>Damaged-Rubble unclear</td>\n",
       "      <td>0</td>\n",
       "      <td>2</td>\n",
       "      <td>Mud mortar-Stone/Brick</td>\n",
       "      <td>Mud</td>\n",
       "      <td>0</td>\n",
       "      <td>18</td>\n",
       "      <td>Flat</td>\n",
       "      <td>TImber/Bamboo-Mud</td>\n",
       "      <td>Rectangular</td>\n",
       "      <td>280</td>\n",
       "      <td>Not attached</td>\n",
       "      <td>Bamboo/Timber-Light roof</td>\n",
       "      <td>mud_mortar_stone</td>\n",
       "      <td>Grade 5</td>\n",
       "    </tr>\n",
       "    <tr>\n",
       "      <th>3.601060e+11</th>\n",
       "      <td>15</td>\n",
       "      <td>3.601060e+11</td>\n",
       "      <td>Damaged-Rubble unclear</td>\n",
       "      <td>0</td>\n",
       "      <td>1</td>\n",
       "      <td>Mud mortar-Stone/Brick</td>\n",
       "      <td>Mud</td>\n",
       "      <td>0</td>\n",
       "      <td>18</td>\n",
       "      <td>Flat</td>\n",
       "      <td>Not applicable</td>\n",
       "      <td>Rectangular</td>\n",
       "      <td>120</td>\n",
       "      <td>Attached-1 side</td>\n",
       "      <td>Bamboo/Timber-Light roof</td>\n",
       "      <td>mud_mortar_stone</td>\n",
       "      <td>Grade 5</td>\n",
       "    </tr>\n",
       "    <tr>\n",
       "      <th>3.601070e+11</th>\n",
       "      <td>25</td>\n",
       "      <td>3.601070e+11</td>\n",
       "      <td>Damaged-Rubble unclear</td>\n",
       "      <td>0</td>\n",
       "      <td>2</td>\n",
       "      <td>Mud mortar-Stone/Brick</td>\n",
       "      <td>Mud</td>\n",
       "      <td>0</td>\n",
       "      <td>14</td>\n",
       "      <td>Flat</td>\n",
       "      <td>TImber/Bamboo-Mud</td>\n",
       "      <td>Rectangular</td>\n",
       "      <td>300</td>\n",
       "      <td>Not attached</td>\n",
       "      <td>Bamboo/Timber-Light roof</td>\n",
       "      <td>mud_mortar_stone</td>\n",
       "      <td>Grade 5</td>\n",
       "    </tr>\n",
       "    <tr>\n",
       "      <th>3.601070e+11</th>\n",
       "      <td>22</td>\n",
       "      <td>3.601070e+11</td>\n",
       "      <td>Damaged-Rubble clear</td>\n",
       "      <td>0</td>\n",
       "      <td>2</td>\n",
       "      <td>Mud mortar-Stone/Brick</td>\n",
       "      <td>Mud</td>\n",
       "      <td>0</td>\n",
       "      <td>16</td>\n",
       "      <td>Flat</td>\n",
       "      <td>TImber/Bamboo-Mud</td>\n",
       "      <td>Rectangular</td>\n",
       "      <td>155</td>\n",
       "      <td>Not attached</td>\n",
       "      <td>Bamboo/Timber-Light roof</td>\n",
       "      <td>mud_mortar_stone</td>\n",
       "      <td>Grade 5</td>\n",
       "    </tr>\n",
       "    <tr>\n",
       "      <th>3.602020e+11</th>\n",
       "      <td>20</td>\n",
       "      <td>3.602020e+11</td>\n",
       "      <td>Damaged-Rubble unclear</td>\n",
       "      <td>0</td>\n",
       "      <td>2</td>\n",
       "      <td>Mud mortar-Stone/Brick</td>\n",
       "      <td>Brick/Stone</td>\n",
       "      <td>0</td>\n",
       "      <td>14</td>\n",
       "      <td>Flat</td>\n",
       "      <td>TImber/Bamboo-Mud</td>\n",
       "      <td>Rectangular</td>\n",
       "      <td>240</td>\n",
       "      <td>Attached-1 side</td>\n",
       "      <td>Bamboo/Timber-Heavy roof</td>\n",
       "      <td>mud_mortar_stone</td>\n",
       "      <td>Grade 5</td>\n",
       "    </tr>\n",
       "  </tbody>\n",
       "</table>\n",
       "</div>"
      ],
      "text/plain": [
       "              age_building   building_id       condition_post_eq  \\\n",
       "b_id                                                               \n",
       "3.601060e+11             4  3.601060e+11  Damaged-Rubble unclear   \n",
       "3.601060e+11            15  3.601060e+11  Damaged-Rubble unclear   \n",
       "3.601070e+11            25  3.601070e+11  Damaged-Rubble unclear   \n",
       "3.601070e+11            22  3.601070e+11    Damaged-Rubble clear   \n",
       "3.602020e+11            20  3.602020e+11  Damaged-Rubble unclear   \n",
       "\n",
       "              count_floors_post_eq  count_floors_pre_eq  \\\n",
       "b_id                                                      \n",
       "3.601060e+11                     0                    2   \n",
       "3.601060e+11                     0                    1   \n",
       "3.601070e+11                     0                    2   \n",
       "3.601070e+11                     0                    2   \n",
       "3.602020e+11                     0                    2   \n",
       "\n",
       "                     foundation_type ground_floor_type  height_ft_post_eq  \\\n",
       "b_id                                                                        \n",
       "3.601060e+11  Mud mortar-Stone/Brick               Mud                  0   \n",
       "3.601060e+11  Mud mortar-Stone/Brick               Mud                  0   \n",
       "3.601070e+11  Mud mortar-Stone/Brick               Mud                  0   \n",
       "3.601070e+11  Mud mortar-Stone/Brick               Mud                  0   \n",
       "3.602020e+11  Mud mortar-Stone/Brick       Brick/Stone                  0   \n",
       "\n",
       "              height_ft_pre_eq land_surface_condition   other_floor_type  \\\n",
       "b_id                                                                       \n",
       "3.601060e+11                18                   Flat  TImber/Bamboo-Mud   \n",
       "3.601060e+11                18                   Flat     Not applicable   \n",
       "3.601070e+11                14                   Flat  TImber/Bamboo-Mud   \n",
       "3.601070e+11                16                   Flat  TImber/Bamboo-Mud   \n",
       "3.602020e+11                14                   Flat  TImber/Bamboo-Mud   \n",
       "\n",
       "             plan_configuration  plinth_area_sq_ft         position  \\\n",
       "b_id                                                                  \n",
       "3.601060e+11        Rectangular                280     Not attached   \n",
       "3.601060e+11        Rectangular                120  Attached-1 side   \n",
       "3.601070e+11        Rectangular                300     Not attached   \n",
       "3.601070e+11        Rectangular                155     Not attached   \n",
       "3.602020e+11        Rectangular                240  Attached-1 side   \n",
       "\n",
       "                             roof_type    superstructure damage_grade  \n",
       "b_id                                                                   \n",
       "3.601060e+11  Bamboo/Timber-Light roof  mud_mortar_stone      Grade 5  \n",
       "3.601060e+11  Bamboo/Timber-Light roof  mud_mortar_stone      Grade 5  \n",
       "3.601070e+11  Bamboo/Timber-Light roof  mud_mortar_stone      Grade 5  \n",
       "3.601070e+11  Bamboo/Timber-Light roof  mud_mortar_stone      Grade 5  \n",
       "3.602020e+11  Bamboo/Timber-Heavy roof  mud_mortar_stone      Grade 5  "
      ]
     },
     "execution_count": 49,
     "metadata": {},
     "output_type": "execute_result"
    }
   ],
   "source": [
    "df = pd.read_sql(query, conn, index_col = 'b_id')\n",
    "\n",
    "df.head()"
   ]
  },
  {
   "cell_type": "code",
   "execution_count": 52,
   "id": "a5068de0-9590-416e-8d3e-8ddf537ab629",
   "metadata": {},
   "outputs": [
    {
     "data": {
      "text/plain": [
       "array(['Grade 5', 'Grade 2', 'Grade 3', 'Grade 4', 'Grade 1'],\n",
       "      dtype=object)"
      ]
     },
     "execution_count": 52,
     "metadata": {},
     "output_type": "execute_result"
    }
   ],
   "source": [
    "df['damage_grade'].unique()"
   ]
  },
  {
   "cell_type": "code",
   "execution_count": 53,
   "id": "863e4db1-a9a9-4791-8219-c6ef7375cb4a",
   "metadata": {},
   "outputs": [],
   "source": [
    "df['damage_grade'] = df['damage_grade'].str[-1].astype(int)"
   ]
  },
  {
   "cell_type": "code",
   "execution_count": 54,
   "id": "34f03853-f55d-4f9a-899e-a84d9c97226b",
   "metadata": {},
   "outputs": [
    {
     "data": {
      "text/plain": [
       "array([5, 2, 3, 4, 1])"
      ]
     },
     "execution_count": 54,
     "metadata": {},
     "output_type": "execute_result"
    }
   ],
   "source": [
    "df['damage_grade'].unique()"
   ]
  },
  {
   "cell_type": "code",
   "execution_count": 55,
   "id": "352f030d-7292-4825-87b5-6b24a22161a9",
   "metadata": {},
   "outputs": [],
   "source": [
    "df['severe_grade'] = (df['damage_grade']>3).astype(int)"
   ]
  },
  {
   "cell_type": "code",
   "execution_count": 57,
   "id": "c56969d5-a636-47a7-ba20-a3dce171e517",
   "metadata": {},
   "outputs": [],
   "source": [
    "import matplotlib.pyplot as plt\n",
    "import seaborn as sns"
   ]
  },
  {
   "cell_type": "code",
   "execution_count": 58,
   "id": "3cbe4a97-8a78-451b-b9f3-1979a620e6e4",
   "metadata": {},
   "outputs": [
    {
     "data": {
      "text/html": [
       "<div>\n",
       "<style scoped>\n",
       "    .dataframe tbody tr th:only-of-type {\n",
       "        vertical-align: middle;\n",
       "    }\n",
       "\n",
       "    .dataframe tbody tr th {\n",
       "        vertical-align: top;\n",
       "    }\n",
       "\n",
       "    .dataframe thead th {\n",
       "        text-align: right;\n",
       "    }\n",
       "</style>\n",
       "<table border=\"1\" class=\"dataframe\">\n",
       "  <thead>\n",
       "    <tr style=\"text-align: right;\">\n",
       "      <th></th>\n",
       "      <th>age_building</th>\n",
       "      <th>building_id</th>\n",
       "      <th>count_floors_post_eq</th>\n",
       "      <th>count_floors_pre_eq</th>\n",
       "      <th>height_ft_post_eq</th>\n",
       "      <th>height_ft_pre_eq</th>\n",
       "      <th>plinth_area_sq_ft</th>\n",
       "      <th>damage_grade</th>\n",
       "      <th>severe_grade</th>\n",
       "    </tr>\n",
       "  </thead>\n",
       "  <tbody>\n",
       "    <tr>\n",
       "      <th>age_building</th>\n",
       "      <td>1.000000</td>\n",
       "      <td>0.007005</td>\n",
       "      <td>-0.006417</td>\n",
       "      <td>0.062670</td>\n",
       "      <td>-0.022735</td>\n",
       "      <td>0.047666</td>\n",
       "      <td>-0.019476</td>\n",
       "      <td>0.065040</td>\n",
       "      <td>0.054071</td>\n",
       "    </tr>\n",
       "    <tr>\n",
       "      <th>building_id</th>\n",
       "      <td>0.007005</td>\n",
       "      <td>1.000000</td>\n",
       "      <td>-0.100742</td>\n",
       "      <td>-0.024280</td>\n",
       "      <td>-0.072115</td>\n",
       "      <td>0.026557</td>\n",
       "      <td>0.094001</td>\n",
       "      <td>0.035333</td>\n",
       "      <td>0.030686</td>\n",
       "    </tr>\n",
       "    <tr>\n",
       "      <th>count_floors_post_eq</th>\n",
       "      <td>-0.006417</td>\n",
       "      <td>-0.100742</td>\n",
       "      <td>1.000000</td>\n",
       "      <td>0.427850</td>\n",
       "      <td>0.946110</td>\n",
       "      <td>0.334143</td>\n",
       "      <td>0.128612</td>\n",
       "      <td>-0.627237</td>\n",
       "      <td>-0.471135</td>\n",
       "    </tr>\n",
       "    <tr>\n",
       "      <th>count_floors_pre_eq</th>\n",
       "      <td>0.062670</td>\n",
       "      <td>-0.024280</td>\n",
       "      <td>0.427850</td>\n",
       "      <td>1.000000</td>\n",
       "      <td>0.389641</td>\n",
       "      <td>0.749044</td>\n",
       "      <td>0.196953</td>\n",
       "      <td>-0.000949</td>\n",
       "      <td>0.009729</td>\n",
       "    </tr>\n",
       "    <tr>\n",
       "      <th>height_ft_post_eq</th>\n",
       "      <td>-0.022735</td>\n",
       "      <td>-0.072115</td>\n",
       "      <td>0.946110</td>\n",
       "      <td>0.389641</td>\n",
       "      <td>1.000000</td>\n",
       "      <td>0.465845</td>\n",
       "      <td>0.183835</td>\n",
       "      <td>-0.639998</td>\n",
       "      <td>-0.484761</td>\n",
       "    </tr>\n",
       "    <tr>\n",
       "      <th>height_ft_pre_eq</th>\n",
       "      <td>0.047666</td>\n",
       "      <td>0.026557</td>\n",
       "      <td>0.334143</td>\n",
       "      <td>0.749044</td>\n",
       "      <td>0.465845</td>\n",
       "      <td>1.000000</td>\n",
       "      <td>0.286794</td>\n",
       "      <td>-0.049942</td>\n",
       "      <td>-0.038585</td>\n",
       "    </tr>\n",
       "    <tr>\n",
       "      <th>plinth_area_sq_ft</th>\n",
       "      <td>-0.019476</td>\n",
       "      <td>0.094001</td>\n",
       "      <td>0.128612</td>\n",
       "      <td>0.196953</td>\n",
       "      <td>0.183835</td>\n",
       "      <td>0.286794</td>\n",
       "      <td>1.000000</td>\n",
       "      <td>-0.131706</td>\n",
       "      <td>-0.091149</td>\n",
       "    </tr>\n",
       "    <tr>\n",
       "      <th>damage_grade</th>\n",
       "      <td>0.065040</td>\n",
       "      <td>0.035333</td>\n",
       "      <td>-0.627237</td>\n",
       "      <td>-0.000949</td>\n",
       "      <td>-0.639998</td>\n",
       "      <td>-0.049942</td>\n",
       "      <td>-0.131706</td>\n",
       "      <td>1.000000</td>\n",
       "      <td>0.866618</td>\n",
       "    </tr>\n",
       "    <tr>\n",
       "      <th>severe_grade</th>\n",
       "      <td>0.054071</td>\n",
       "      <td>0.030686</td>\n",
       "      <td>-0.471135</td>\n",
       "      <td>0.009729</td>\n",
       "      <td>-0.484761</td>\n",
       "      <td>-0.038585</td>\n",
       "      <td>-0.091149</td>\n",
       "      <td>0.866618</td>\n",
       "      <td>1.000000</td>\n",
       "    </tr>\n",
       "  </tbody>\n",
       "</table>\n",
       "</div>"
      ],
      "text/plain": [
       "                      age_building  building_id  count_floors_post_eq  \\\n",
       "age_building              1.000000     0.007005             -0.006417   \n",
       "building_id               0.007005     1.000000             -0.100742   \n",
       "count_floors_post_eq     -0.006417    -0.100742              1.000000   \n",
       "count_floors_pre_eq       0.062670    -0.024280              0.427850   \n",
       "height_ft_post_eq        -0.022735    -0.072115              0.946110   \n",
       "height_ft_pre_eq          0.047666     0.026557              0.334143   \n",
       "plinth_area_sq_ft        -0.019476     0.094001              0.128612   \n",
       "damage_grade              0.065040     0.035333             -0.627237   \n",
       "severe_grade              0.054071     0.030686             -0.471135   \n",
       "\n",
       "                      count_floors_pre_eq  height_ft_post_eq  \\\n",
       "age_building                     0.062670          -0.022735   \n",
       "building_id                     -0.024280          -0.072115   \n",
       "count_floors_post_eq             0.427850           0.946110   \n",
       "count_floors_pre_eq              1.000000           0.389641   \n",
       "height_ft_post_eq                0.389641           1.000000   \n",
       "height_ft_pre_eq                 0.749044           0.465845   \n",
       "plinth_area_sq_ft                0.196953           0.183835   \n",
       "damage_grade                    -0.000949          -0.639998   \n",
       "severe_grade                     0.009729          -0.484761   \n",
       "\n",
       "                      height_ft_pre_eq  plinth_area_sq_ft  damage_grade  \\\n",
       "age_building                  0.047666          -0.019476      0.065040   \n",
       "building_id                   0.026557           0.094001      0.035333   \n",
       "count_floors_post_eq          0.334143           0.128612     -0.627237   \n",
       "count_floors_pre_eq           0.749044           0.196953     -0.000949   \n",
       "height_ft_post_eq             0.465845           0.183835     -0.639998   \n",
       "height_ft_pre_eq              1.000000           0.286794     -0.049942   \n",
       "plinth_area_sq_ft             0.286794           1.000000     -0.131706   \n",
       "damage_grade                 -0.049942          -0.131706      1.000000   \n",
       "severe_grade                 -0.038585          -0.091149      0.866618   \n",
       "\n",
       "                      severe_grade  \n",
       "age_building              0.054071  \n",
       "building_id               0.030686  \n",
       "count_floors_post_eq     -0.471135  \n",
       "count_floors_pre_eq       0.009729  \n",
       "height_ft_post_eq        -0.484761  \n",
       "height_ft_pre_eq         -0.038585  \n",
       "plinth_area_sq_ft        -0.091149  \n",
       "damage_grade              0.866618  \n",
       "severe_grade              1.000000  "
      ]
     },
     "execution_count": 58,
     "metadata": {},
     "output_type": "execute_result"
    }
   ],
   "source": [
    "df1 = df.select_dtypes('number')\n",
    "df1.corr()"
   ]
  },
  {
   "cell_type": "code",
   "execution_count": 59,
   "id": "5c5ce3b6-b4a3-49ff-90ba-effeb0d89b81",
   "metadata": {},
   "outputs": [],
   "source": [
    "c_df1 = df1.corr()"
   ]
  },
  {
   "cell_type": "code",
   "execution_count": 65,
   "id": "998be251-dc5e-470a-bb68-811fdaaa42d8",
   "metadata": {},
   "outputs": [
    {
     "data": {
      "text/plain": [
       "<Axes: >"
      ]
     },
     "execution_count": 65,
     "metadata": {},
     "output_type": "execute_result"
    },
    {
     "data": {
      "image/png": "[encoded data removed]",
      "text/plain": [
       "<Figure size 640x480 with 2 Axes>"
      ]
     },
     "metadata": {},
     "output_type": "display_data"
    }
   ],
   "source": [
    "sns.heatmap(c_df1, annot=True)"
   ]
  },
  {
   "cell_type": "code",
   "execution_count": null,
   "id": "00d21b8b-8d4b-4ef5-94a0-66bb251e10b3",
   "metadata": {},
   "outputs": [],
   "source": []
  }
 ],
 "metadata": {
  "kernelspec": {
   "display_name": "Python 3 (ipykernel)",
   "language": "python",
   "name": "python3"
  },
  "language_info": {
   "codemirror_mode": {
    "name": "ipython",
    "version": 3
   },
   "file_extension": ".py",
   "mimetype": "text/x-python",
   "name": "python",
   "nbconvert_exporter": "python",
   "pygments_lexer": "ipython3",
   "version": "3.12.8"
  }
 },
 "nbformat": 4,
 "nbformat_minor": 5
}
